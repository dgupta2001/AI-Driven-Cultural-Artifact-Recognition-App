{
  "nbformat": 4,
  "nbformat_minor": 0,
  "metadata": {
    "colab": {
      "provenance": [],
      "authorship_tag": "ABX9TyOzbw9NOzvEJLx7PFo8uCQY",
      "include_colab_link": true
    },
    "kernelspec": {
      "name": "python3",
      "display_name": "Python 3"
    },
    "language_info": {
      "name": "python"
    }
  },
  "cells": [
    {
      "cell_type": "markdown",
      "metadata": {
        "id": "view-in-github",
        "colab_type": "text"
      },
      "source": [
        "<a href=\"https://colab.research.google.com/github/dgupta2001/AI-Driven-Cultural-Artifact-Recognition-App/blob/main/Testiing.ipynb\" target=\"_parent\"><img src=\"https://colab.research.google.com/assets/colab-badge.svg\" alt=\"Open In Colab\"/></a>"
      ]
    },
    {
      "cell_type": "code",
      "source": [
        "from google.colab import drive\n",
        "drive.mount('/content/drive')"
      ],
      "metadata": {
        "colab": {
          "base_uri": "https://localhost:8080/"
        },
        "id": "T3GKEcVJDkkl",
        "outputId": "ad22704b-446b-4b97-c8bc-ad209260e204"
      },
      "execution_count": 3,
      "outputs": [
        {
          "output_type": "stream",
          "name": "stdout",
          "text": [
            "Drive already mounted at /content/drive; to attempt to forcibly remount, call drive.mount(\"/content/drive\", force_remount=True).\n"
          ]
        }
      ]
    },
    {
      "cell_type": "code",
      "execution_count": 4,
      "metadata": {
        "id": "64r03lDNDT9K",
        "colab": {
          "base_uri": "https://localhost:8080/"
        },
        "outputId": "66069a05-60fb-468a-d15a-d6b199e6ecfd"
      },
      "outputs": [
        {
          "output_type": "stream",
          "name": "stderr",
          "text": [
            "WARNING:absl:Compiled the loaded model, but the compiled metrics have yet to be built. `model.compile_metrics` will be empty until you train or evaluate the model.\n"
          ]
        },
        {
          "output_type": "stream",
          "name": "stdout",
          "text": [
            "\u001b[1m1/1\u001b[0m \u001b[32m━━━━━━━━━━━━━━━━━━━━\u001b[0m\u001b[37m\u001b[0m \u001b[1m0s\u001b[0m 261ms/step\n",
            "Predicted Category: kalighat\n"
          ]
        }
      ],
      "source": [
        "from tensorflow.keras.models import load_model\n",
        "import numpy as np\n",
        "import cv2\n",
        "\n",
        "# Step 1: Load the saved model\n",
        "model_path = '/content/drive/MyDrive/indian_paintings_recognition_model.h5'\n",
        "model = load_model(model_path)\n",
        "\n",
        "# Step 2: Function to preprocess a new image for prediction\n",
        "def preprocess_image(img_path):\n",
        "    img = cv2.imread(img_path)\n",
        "    img = cv2.resize(img, (128, 128))  # Resize to the same size used in training\n",
        "    img = img / 255.0  # Normalize the image\n",
        "    img = np.expand_dims(img, axis=0)  # Add batch dimension\n",
        "    return img\n",
        "\n",
        "# Step 3: Predict the class of a new image\n",
        "def predict_image(model, img_path, categories):\n",
        "    img = preprocess_image(img_path)\n",
        "    prediction = model.predict(img)\n",
        "    predicted_class = np.argmax(prediction)\n",
        "    return categories[predicted_class]\n",
        "\n",
        "# Example usage\n",
        "categories = ['gond', 'kalighat', 'kangra', 'kerala mural', 'madhubani', 'mandana', 'pichwai', 'warli paintings']\n",
        "image_path = '/content/drive/MyDrive/dataset/painting.jpg'  # Replace with the path to your new image\n",
        "predicted_category = predict_image(model, image_path, categories)\n",
        "print(f\"Predicted Category: {predicted_category}\")\n"
      ]
    }
  ]
}